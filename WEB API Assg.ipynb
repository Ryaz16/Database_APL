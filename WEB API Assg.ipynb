{
 "cells": [
  {
   "attachments": {},
   "cell_type": "markdown",
   "metadata": {},
   "source": [
    "Q1. What is an API? Give an example, where an API is used in real life.\n",
    "\n",
    "WEB API -Application Programming Interface\n",
    "A Web API is a set of standards and protocols for accessing web-based software applications or web tools. It provides a way for different software systems to communicate with each other over the internet.\n",
    "\n",
    "\n",
    "like eg: if i have to use any payment app so that's not mean my data will stored in my app its mean the app is communicate to the bank \n"
   ]
  },
  {
   "attachments": {},
   "cell_type": "markdown",
   "metadata": {},
   "source": [
    "Q2. Give advantages and disadvantages of using API.\n",
    "\n",
    "The advantages of using an API is accessing and consuming data and services from thousands of independent sources.\n",
    "\n",
    "Disadvantages  the potential for security risks, the need for specialized knowledge, the potential for compatibility issues."
   ]
  },
  {
   "attachments": {},
   "cell_type": "markdown",
   "metadata": {},
   "source": [
    "Q3. What is a Web API? Differentiate between API and Web API.\n",
    "\n",
    "An Application Programming Interface that allows the software application to interact with each other\n",
    "\n",
    "\n",
    "API : They are openly accessible to the public and can be invoked from anywhere on the open internet\n",
    "\n",
    "WEB API : \n"
   ]
  },
  {
   "attachments": {},
   "cell_type": "markdown",
   "metadata": {},
   "source": [
    "Q4. Explain REST and SOAP Architecture. Mention shortcomings of SOAP.\n",
    "\n",
    "A REST API is a type of API that uses Representational State Transfer (REST) principles. REST is a set of architectural principles for designing networked systems, and REST APIs are designed to be lightweight, scalable, and easy to use. They are the most common type of web API and use standard HTTP methods (such as GET, POST, PUT, and DELETE) to interact with data.\n",
    "\n",
    "SOAP stands for Simple Object Access Protocol and is a protocol for sending and receiving messages between applications. SOAP messages are typically sent over HTTP or other transport protocols and are formatted in XML. SOAP is designed to provide a secure and reliable way for applications to communicate with each other, making it a popular choice for building web-based services."
   ]
  },
  {
   "attachments": {},
   "cell_type": "markdown",
   "metadata": {},
   "source": [
    "Q5. Differentiate between REST and SOAP.\n",
    "REST :REST has faster performance due to smaller messages and caching support, REST supports XML, JSON, plain text, HTML.\n",
    "\n",
    "\n",
    "SOAP :SOAP supports only XML data exchange, a protocol for sending and receiving messages between applications"
   ]
  }
 ],
 "metadata": {
  "kernelspec": {
   "display_name": "Python 3",
   "language": "python",
   "name": "python3"
  },
  "language_info": {
   "codemirror_mode": {
    "name": "ipython",
    "version": 3
   },
   "file_extension": ".py",
   "mimetype": "text/x-python",
   "name": "python",
   "nbconvert_exporter": "python",
   "pygments_lexer": "ipython3",
   "version": "3.11.3"
  },
  "orig_nbformat": 4
 },
 "nbformat": 4,
 "nbformat_minor": 2
}
